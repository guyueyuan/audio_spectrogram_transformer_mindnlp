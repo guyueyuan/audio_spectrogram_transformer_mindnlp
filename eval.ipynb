{
 "cells": [
  {
   "cell_type": "code",
   "execution_count": null,
   "id": "e33588a2-ce93-4b0a-8bbb-42dfe45da07e",
   "metadata": {},
   "outputs": [],
   "source": [
    "# pip install --upgrade jupyter ipywidgets\n",
    "\n",
    "import os\n",
    "import json\n",
    "import numpy as np\n",
    "import librosa\n",
    "from tqdm.notebook import tqdm\n",
    "from mindnlp.transformers import AutoModelForAudioClassification, AutoFeatureExtractor\n",
    "from mindspore import nn\n",
    "import mindspore as ms"
   ]
  },
  {
   "cell_type": "code",
   "execution_count": null,
   "id": "8e94aab8-0ee9-401d-8109-1cbcc4319edb",
   "metadata": {},
   "outputs": [],
   "source": [
    "# 由于模型配置标签与esc数据集标签不一致，需要创建一个映射\n",
    "def create_ast_to_esc_mapping():\n",
    "    \"\"\"创建AST标签到ESC-50标签的映射\"\"\"\n",
    "    ast_to_esc = {\n",
    "        # 动物声音\n",
    "        74: '00',  # Dog -> dog\n",
    "        75: '00',  # Bark -> dog\n",
    "        76: '00',  # Yip -> dog\n",
    "        77: '00',  # Howl -> dog\n",
    "        78: '00',  # Bow-wow -> dog\n",
    "        79: '00',  # Growling -> dog\n",
    "        80: '00',  # Whimper (dog) -> dog\n",
    "        \n",
    "        99: '01',  # Chicken, rooster -> rooster\n",
    "        100: '06', # Cluck -> hen\n",
    "        101: '01', # Crowing -> rooster\n",
    "        \n",
    "        93: '02',  # Pig -> pig\n",
    "        94: '02',  # Oink -> pig\n",
    "        \n",
    "        90: '03',  # Cattle, bovinae -> cow\n",
    "        91: '03',  # Moo -> cow\n",
    "        \n",
    "        132: '04', # Frog -> frog\n",
    "        133: '04', # Croak -> frog\n",
    "        \n",
    "        81: '05',  # Cat -> cat\n",
    "        82: '05',  # Purr -> cat\n",
    "        83: '05',  # Meow -> cat\n",
    "        84: '05',  # Hiss -> cat\n",
    "        85: '05',  # Caterwaul -> cat\n",
    "        \n",
    "        126: '07', # Insect -> insects\n",
    "        128: '07', # Mosquito -> insects\n",
    "        129: '07', # Fly, housefly -> insects\n",
    "        130: '07', # Buzz -> insects\n",
    "        131: '07', # Bee, wasp, etc. -> insects\n",
    "        \n",
    "        97: '08',  # Sheep -> sheep\n",
    "        96: '08',  # Bleat -> sheep\n",
    "        \n",
    "        117: '09', # Crow -> crow\n",
    "        118: '09', # Caw -> crow\n",
    "        \n",
    "        # 环境声音\n",
    "        289: '10', # Rain -> rain\n",
    "        290: '10', # Raindrop -> rain\n",
    "        291: '10', # Rain on surface -> rain\n",
    "        \n",
    "        294: '11', # Ocean -> sea_waves\n",
    "        295: '11', # Waves, surf -> sea_waves\n",
    "        \n",
    "        298: '12', # Fire -> crackling_fire\n",
    "        299: '12', # Crackle -> crackling_fire\n",
    "        \n",
    "        127: '13', # Cricket -> crickets\n",
    "        \n",
    "        111: '14', # Bird -> chirping_birds\n",
    "        112: '14', # Bird vocalization, bird call, bird song -> chirping_birds\n",
    "        113: '14', # Chirp, tweet -> chirping_birds\n",
    "\n",
    "        448: '15', # Drip -> water_drops\n",
    "        \n",
    "        283: '16', # Wind -> wind\n",
    "        284: '16', # Rustling leaves -> wind\n",
    "        285: '16', # Wind noise -> wind\n",
    "        \n",
    "        449: '17', # Pour -> pouring_water\n",
    "        450: '17', # Trickle, dribble -> pouring_water\n",
    "        451: '17', # Gush -> pouring_water\n",
    "        \n",
    "        374: '18', # Toilet flush -> toilet_flush\n",
    "        \n",
    "        286: '19', # Thunderstorm -> thunderstorm\n",
    "        287: '19', # Thunder -> thunderstorm\n",
    "        \n",
    "        # 人类声音\n",
    "        23: '20',  # Baby cry, infant cry -> crying_baby\n",
    "        \n",
    "        49: '21',  # Sneeze -> sneezing\n",
    "        \n",
    "        63: '22',  # Clapping -> clapping\n",
    "        \n",
    "        41: '23',  # Breathing -> breathing\n",
    "        42: '23',  # Wheeze -> breathing\n",
    "        \n",
    "        47: '24',  # Cough -> coughing\n",
    "        \n",
    "        53: '25',  # Walk, footsteps -> footsteps\n",
    "        \n",
    "        16: '26',  # Laughter -> laughing\n",
    "        17: '26',  # Baby laughter -> laughing\n",
    "        18: '26',  # Giggle -> laughing\n",
    "        19: '26',  # Snicker -> laughing\n",
    "        20: '26',  # Belly laugh -> laughing\n",
    "        21: '26',  # Chuckle, chortle -> laughing\n",
    "        \n",
    "        375: '27', # Toothbrush -> brushing_teeth\n",
    "        376: '27', # Electric toothbrush -> brushing_teeth\n",
    "        \n",
    "        43: '28',  # Snoring -> snoring\n",
    "        \n",
    "        54: '29',  # Chewing, mastication -> drinking_sipping\n",
    "        \n",
    "        # 室内声音\n",
    "        358: '30', # Knock -> door_wood_knock\n",
    "        359: '30', # Knock -> door_wood_knock\n",
    "        \n",
    "        491: '31', # Clicking -> mouse_click\n",
    "        \n",
    "        386: '32', # Computer keyboard -> keyboard_typing\n",
    "        \n",
    "        361: '33', # Squeak -> door_wood_creaks\n",
    "        \n",
    "        364: '34', # Dishes, pots, and pans -> can_opening\n",
    "\n",
    "        377: '36', # Vacuum cleaner -> vacuum_cleaner\n",
    "        \n",
    "        395: '37', # Alarm clock -> clock_alarm\n",
    "        \n",
    "        407: '38', # Tick -> clock_tick\n",
    "        408: '38', # Tick-tock -> clock_tick\n",
    "        \n",
    "        443: '39', # Shatter -> glass_breaking\n",
    "        \n",
    "        # 交通工具声音\n",
    "        339: '40', # Helicopter -> helicopter\n",
    "        \n",
    "        347: '41', # Chainsaw -> chainsaw\n",
    "        \n",
    "        396: '42', # Siren -> siren\n",
    "        397: '42', # Civil defense siren -> siren\n",
    "        \n",
    "        308: '43', # Vehicle horn, car horn, honking -> car_horn\n",
    "        309: '43', # Toot -> car_horn\n",
    "        \n",
    "        343: '44', # Engine -> engine\n",
    "        344: '44', # Light engine -> engine\n",
    "        348: '44', # Medium engine -> engine\n",
    "        349: '44', # Heavy engine -> engine\n",
    "        \n",
    "        329: '45', # Train -> train\n",
    "        330: '45', # Train whistle -> train\n",
    "        331: '45', # Train horn -> train\n",
    "        \n",
    "        201: '46', # Church bell -> church_bells\n",
    "        \n",
    "        340: '47', # Fixed-wing aircraft, airplane -> airplane\n",
    "        \n",
    "        432: '48', # Fireworks -> fireworks\n",
    "        433: '48', # Firecracker -> fireworks\n",
    "        \n",
    "        421: '49', # Sawing -> hand_saw\n",
    "    }\n",
    "    return ast_to_esc"
   ]
  },
  {
   "cell_type": "code",
   "execution_count": null,
   "id": "a547f50c-a428-4683-9ea1-3285c989bae2",
   "metadata": {},
   "outputs": [],
   "source": [
    "def load_data(json_path):\n",
    "    \"\"\"加载ESC-50数据集的json文件\"\"\"\n",
    "    with open(json_path, 'r') as fp:\n",
    "        data = json.load(fp)\n",
    "    return data['data']\n",
    "\n",
    "def preprocess_function(audio_path, feature_extractor):\n",
    "    \"\"\"预处理音频文件\"\"\"\n",
    "    # 使用librosa读取音频文件\n",
    "    audio, sr = librosa.load(audio_path, sr=16000)\n",
    "    # audio, sr = librosa.load(audio_path)\n",
    "    # 使用特征提取器处理音频\n",
    "    inputs = feature_extractor(\n",
    "        audio,\n",
    "        sampling_rate=16000,\n",
    "        return_tensors=\"ms\",\n",
    "        padding=True\n",
    "    )\n",
    "    \n",
    "    # 获取输入值\n",
    "    input_values = inputs.input_values\n",
    "    \n",
    "    # 打印形状以便调试\n",
    "    # print(f\"Input shape before processing: {input_values.shape}\")\n",
    "    \n",
    "    # 不要squeeze，保持原始形状\n",
    "    return input_values\n",
    "\n",
    "def evaluate(model, data, feature_extractor):\n",
    "    \"\"\"评估函数\"\"\"\n",
    "    model.set_train(False)\n",
    "    correct = 0\n",
    "    total = 0\n",
    "    \n",
    "    # 获取AST到ESC的映射\n",
    "    ast_to_esc = create_ast_to_esc_mapping()\n",
    "    \n",
    "    for item in tqdm(data):\n",
    "        # 获取音频路径和标签\n",
    "        audio_path = item['wav']\n",
    "        # audio_path=audio_path.replace('_16k','')\n",
    "        # 从标签中提取数字部分（去掉'/m/07rwj'前缀）\n",
    "        esc_label = item['labels'].replace('/m/07rwj', '')\n",
    "        \n",
    "        try:\n",
    "            # 预处理音频\n",
    "            audio = preprocess_function(audio_path, feature_extractor)\n",
    "            \n",
    "            # 模型推理\n",
    "            outputs = model(audio)\n",
    "            ast_pred = outputs.logits.argmax(axis=-1).asnumpy()[0]\n",
    "            \n",
    "            # 将AST预测映射到ESC标签\n",
    "            esc_pred = ast_to_esc.get(ast_pred, None)\n",
    "            # print('################################')\n",
    "            # print(ast_pred)\n",
    "            # print(esc_pred)\n",
    "            # print(esc_label)\n",
    "            if esc_pred is None:\n",
    "                continue\n",
    "            \n",
    "            total += 1\n",
    "            if esc_pred == esc_label:\n",
    "                correct += 1\n",
    "            \n",
    "        except Exception as e:\n",
    "            print(f\"处理文件 {audio_path} 时出错: {str(e)}\")\n",
    "            print(f\"错误类型: {type(e)}\")\n",
    "            import traceback\n",
    "            print(traceback.format_exc())\n",
    "            continue\n",
    "\n",
    "    # 计算acc\n",
    "    accuracy = correct / total if total > 0 else 0\n",
    "    return accuracy"
   ]
  },
  {
   "cell_type": "code",
   "execution_count": null,
   "id": "c43311c8-5a76-496c-99d2-7aab44cb44f4",
   "metadata": {},
   "outputs": [],
   "source": [
    "def main():\n",
    "    # 设置模型下载镜像地址\n",
    "    os.environ[\"HF_HOME\"] = \"https://hf-mirror.com/\"\n",
    "    # 设置设备\n",
    "    ms.set_context(device_target='Ascend')\n",
    "    \n",
    "    # 加载AST模型和特征提取器\n",
    "    # 使用论文中的ast-p模型\n",
    "    model_name = \"MIT/ast-finetuned-audioset-10-10-0.4593\"\n",
    "    model = AutoModelForAudioClassification.from_pretrained(model_name)\n",
    "    feature_extractor = AutoFeatureExtractor.from_pretrained(model_name)\n",
    "    \n",
    "    # 打印模型配置\n",
    "    # print(f\"模型配置：{model.config}\")\n",
    "    \n",
    "    # 测试单个样本以验证预处理\n",
    "    test_fold = 1\n",
    "    test_data = load_data(f'./data/datafiles/esc_train_data_{test_fold}.json')\n",
    "    if test_data:\n",
    "        test_item = test_data[0]\n",
    "        print(f\"\\n测试单个样本：{test_item['wav']}\")\n",
    "        try:\n",
    "            audio = preprocess_function(test_item['wav'], feature_extractor)\n",
    "            print(f\"测试样本形状：{audio.shape}\")\n",
    "            outputs = model(audio)\n",
    "            print(\"测试样本处理成功\")\n",
    "        except Exception as e:\n",
    "            print(f\"测试样本处理失败：{str(e)}\")\n",
    "    \n",
    "    total_ac=0\n",
    "    # 对每个fold进行评估\n",
    "    for fold in range(1, 6):\n",
    "        print(f\"\\n处理 Fold {fold}...\")\n",
    "        \n",
    "        # 加载训练集和测试集\n",
    "        # train_data = load_data(f'./data/datafiles/esc_train_data_{fold}.json')\n",
    "        eval_data = load_data(f'./data/datafiles/esc_eval_data_{fold}.json')\n",
    "        \n",
    "        # 评估\n",
    "        try:\n",
    "            # train_accuracy = evaluate(model, train_data, feature_extractor)\n",
    "            eval_accuracy = evaluate(model, eval_data, feature_extractor)\n",
    "            \n",
    "            print(f\"Fold {fold}:\")\n",
    "            # print(f\"Training Accuracy: {train_accuracy:.4f}\")\n",
    "            print(f\"Test Accuracy: {eval_accuracy:.4f}\")\n",
    "            total_ac+=eval_accuracy\n",
    "            print(\"-\" * 50)\n",
    "        except Exception as e:\n",
    "            print(f\"评估 Fold {fold} 时出错: {str(e)}\")\n",
    "            continue\n",
    "    print(f\"average Accuracy is {total_ac/5}\")"
   ]
  },
  {
   "cell_type": "code",
   "execution_count": 2,
   "id": "760dc2fd-15f9-4fcd-84ac-ef182c63137d",
   "metadata": {},
   "outputs": [
    {
     "name": "stderr",
     "output_type": "stream",
     "text": [
      "[WARNING] ME(19260:281473016664080,MainProcess):2025-02-05-08:45:40.832.100 [mindspore/run_check/_check_version.py:329] MindSpore version 2.4.10 and Ascend AI software package (Ascend Data Center Solution)version 7.3 does not match, the version of software package expect one of ['7.5', '7.6']. Please refer to the match info on: https://www.mindspore.cn/install\n",
      "[WARNING] ME(19260:281473016664080,MainProcess):2025-02-05-08:45:40.834.373 [mindspore/run_check/_check_version.py:407] Can not find the tbe operator implementation(need by mindspore-ascend). Please check whether the Environment Variable PYTHONPATH is set. For details, refer to the installation guidelines: https://www.mindspore.cn/install\n",
      "[WARNING] ME(19260:281473016664080,MainProcess):2025-02-05-08:45:40.835.086 [mindspore/run_check/_check_version.py:347] MindSpore version 2.4.10 and \"te\" wheel package version 7.3 does not match. For details, refer to the installation guidelines: https://www.mindspore.cn/install\n",
      "[WARNING] ME(19260:281473016664080,MainProcess):2025-02-05-08:45:40.835.773 [mindspore/run_check/_check_version.py:354] MindSpore version 2.4.10 and \"hccl\" wheel package version 7.3 does not match. For details, refer to the installation guidelines: https://www.mindspore.cn/install\n",
      "[WARNING] ME(19260:281473016664080,MainProcess):2025-02-05-08:45:40.836.844 [mindspore/run_check/_check_version.py:368] Please pay attention to the above warning, countdown: 3\n",
      "[WARNING] ME(19260:281473016664080,MainProcess):2025-02-05-08:45:41.838.566 [mindspore/run_check/_check_version.py:368] Please pay attention to the above warning, countdown: 2\n",
      "[WARNING] ME(19260:281473016664080,MainProcess):2025-02-05-08:45:42.840.460 [mindspore/run_check/_check_version.py:368] Please pay attention to the above warning, countdown: 1\n",
      "[WARNING] ME(19260:281473016664080,MainProcess):2025-02-05-08:45:43.843.519 [mindspore/run_check/_check_version.py:329] MindSpore version 2.4.10 and Ascend AI software package (Ascend Data Center Solution)version 7.3 does not match, the version of software package expect one of ['7.5', '7.6']. Please refer to the match info on: https://www.mindspore.cn/install\n",
      "[WARNING] ME(19260:281473016664080,MainProcess):2025-02-05-08:45:43.846.053 [mindspore/run_check/_check_version.py:407] Can not find the tbe operator implementation(need by mindspore-ascend). Please check whether the Environment Variable PYTHONPATH is set. For details, refer to the installation guidelines: https://www.mindspore.cn/install\n",
      "[WARNING] ME(19260:281473016664080,MainProcess):2025-02-05-08:45:43.846.748 [mindspore/run_check/_check_version.py:347] MindSpore version 2.4.10 and \"te\" wheel package version 7.3 does not match. For details, refer to the installation guidelines: https://www.mindspore.cn/install\n",
      "[WARNING] ME(19260:281473016664080,MainProcess):2025-02-05-08:45:43.847.738 [mindspore/run_check/_check_version.py:354] MindSpore version 2.4.10 and \"hccl\" wheel package version 7.3 does not match. For details, refer to the installation guidelines: https://www.mindspore.cn/install\n",
      "[WARNING] ME(19260:281473016664080,MainProcess):2025-02-05-08:45:43.848.344 [mindspore/run_check/_check_version.py:368] Please pay attention to the above warning, countdown: 3\n",
      "[WARNING] ME(19260:281473016664080,MainProcess):2025-02-05-08:45:44.850.399 [mindspore/run_check/_check_version.py:368] Please pay attention to the above warning, countdown: 2\n",
      "[WARNING] ME(19260:281473016664080,MainProcess):2025-02-05-08:45:45.852.251 [mindspore/run_check/_check_version.py:368] Please pay attention to the above warning, countdown: 1\n"
     ]
    },
    {
     "name": "stdout",
     "output_type": "stream",
     "text": [
      "\n",
      "测试单个样本：./data/ESC-50-master/audio_16k/2-100648-A-43.wav\n",
      "测试样本形状：(1, 1024, 128)\n",
      "测试样本处理成功\n",
      "\n",
      "处理 Fold 1...\n"
     ]
    },
    {
     "name": "stderr",
     "output_type": "stream",
     "text": [
      "/home/ma-user/anaconda3/envs/MindSpore/lib/python3.9/site-packages/mindnlp/transformers/audio_utils.py:296: UserWarning: At least one mel filter has all zero values. The value for `num_mel_filters` (128) may be set too high. Or, the value for `num_frequency_bins` (256) may be set too low.\n",
      "  warnings.warn(\n"
     ]
    },
    {
     "data": {
      "application/vnd.jupyter.widget-view+json": {
       "model_id": "fdcc82728d9f4888a0fd54482ae26c88",
       "version_major": 2,
       "version_minor": 0
      },
      "text/plain": [
       "  0%|          | 0/400 [00:00<?, ?it/s]"
      ]
     },
     "metadata": {},
     "output_type": "display_data"
    },
    {
     "name": "stdout",
     "output_type": "stream",
     "text": [
      "Fold 1:\n",
      "Test Accuracy: 0.9287\n",
      "--------------------------------------------------\n",
      "\n",
      "处理 Fold 2...\n"
     ]
    },
    {
     "data": {
      "application/vnd.jupyter.widget-view+json": {
       "model_id": "07b2bd6ee31e4d03b6a7842779cad72f",
       "version_major": 2,
       "version_minor": 0
      },
      "text/plain": [
       "  0%|          | 0/400 [00:00<?, ?it/s]"
      ]
     },
     "metadata": {},
     "output_type": "display_data"
    },
    {
     "name": "stdout",
     "output_type": "stream",
     "text": [
      "Fold 2:\n",
      "Test Accuracy: 0.9833\n",
      "--------------------------------------------------\n",
      "\n",
      "处理 Fold 3...\n"
     ]
    },
    {
     "data": {
      "application/vnd.jupyter.widget-view+json": {
       "model_id": "0d9f1f39004a439097e7cd9c1210f28b",
       "version_major": 2,
       "version_minor": 0
      },
      "text/plain": [
       "  0%|          | 0/400 [00:00<?, ?it/s]"
      ]
     },
     "metadata": {},
     "output_type": "display_data"
    },
    {
     "name": "stdout",
     "output_type": "stream",
     "text": [
      "Fold 3:\n",
      "Test Accuracy: 0.9662\n",
      "--------------------------------------------------\n",
      "\n",
      "处理 Fold 4...\n"
     ]
    },
    {
     "data": {
      "application/vnd.jupyter.widget-view+json": {
       "model_id": "85f50e873e1747ec82875d88ce42eea8",
       "version_major": 2,
       "version_minor": 0
      },
      "text/plain": [
       "  0%|          | 0/400 [00:00<?, ?it/s]"
      ]
     },
     "metadata": {},
     "output_type": "display_data"
    },
    {
     "name": "stdout",
     "output_type": "stream",
     "text": [
      "Fold 4:\n",
      "Test Accuracy: 0.9511\n",
      "--------------------------------------------------\n",
      "\n",
      "处理 Fold 5...\n"
     ]
    },
    {
     "data": {
      "application/vnd.jupyter.widget-view+json": {
       "model_id": "bc25c64e28a141f58ebe25703f991aaa",
       "version_major": 2,
       "version_minor": 0
      },
      "text/plain": [
       "  0%|          | 0/400 [00:00<?, ?it/s]"
      ]
     },
     "metadata": {},
     "output_type": "display_data"
    },
    {
     "name": "stdout",
     "output_type": "stream",
     "text": [
      "Fold 5:\n",
      "Test Accuracy: 0.9484\n",
      "--------------------------------------------------\n",
      "average Accuracy is 0.9555199380842737\n"
     ]
    }
   ],
   "source": [
    "if __name__ == \"__main__\":\n",
    "    main() "
   ]
  }
 ],
 "metadata": {
  "kernelspec": {
   "display_name": "MindSpore",
   "language": "python",
   "name": "mindspore"
  },
  "language_info": {
   "codemirror_mode": {
    "name": "ipython",
    "version": 3
   },
   "file_extension": ".py",
   "mimetype": "text/x-python",
   "name": "python",
   "nbconvert_exporter": "python",
   "pygments_lexer": "ipython3",
   "version": "3.9.18"
  }
 },
 "nbformat": 4,
 "nbformat_minor": 5
}

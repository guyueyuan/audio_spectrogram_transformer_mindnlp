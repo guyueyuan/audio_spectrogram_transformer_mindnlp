{
 "cells": [
  {
   "cell_type": "code",
   "execution_count": 1,
   "id": "958ee13c-7d6c-4007-87a8-6360ff718553",
   "metadata": {},
   "outputs": [],
   "source": [
    "import numpy as np\n",
    "import json\n",
    "import os\n",
    "import zipfile\n",
    "import wget\n",
    "import librosa\n",
    "import soundfile as sf"
   ]
  },
  {
   "cell_type": "code",
   "execution_count": 2,
   "id": "581a2d81-cd03-42a5-a7a0-b9822d70a1b1",
   "metadata": {},
   "outputs": [],
   "source": [
    "def get_immediate_subdirectories(a_dir):\n",
    "    return [name for name in os.listdir(a_dir) if os.path.isdir(os.path.join(a_dir, name))]\n",
    "\n",
    "def get_immediate_files(a_dir):\n",
    "    return [name for name in os.listdir(a_dir) if os.path.isfile(os.path.join(a_dir, name))]\n",
    "def resample_audio(input_path, output_path, target_sr=16000):\n",
    "    \"\"\"使用 librosa 重采样音频\"\"\"\n",
    "    try:\n",
    "        # 读取音频\n",
    "        audio, sr = librosa.load(input_path, sr=None)\n",
    "        # 重采样\n",
    "        if sr != target_sr:\n",
    "            audio = librosa.resample(audio, orig_sr=sr, target_sr=target_sr)\n",
    "        # 保存音频\n",
    "        sf.write(output_path, audio, target_sr)\n",
    "        return True\n",
    "    except Exception as e:\n",
    "        print(f\"处理文件 {input_path} 时出错: {str(e)}\")\n",
    "        return False"
   ]
  },
  {
   "cell_type": "code",
   "execution_count": null,
   "id": "3be286e6-b0bd-4676-afe5-b32fdf8ad624",
   "metadata": {},
   "outputs": [],
   "source": [
    "# downlooad esc50\n",
    "# dataset provided in https://github.com/karolpiczak/ESC-50\n",
    "if os.path.exists('./data/ESC-50-master') == False:\n",
    "    print(\"开始下载 ESC-50 数据集...\")\n",
    "    if not os.path.exists('./data'):\n",
    "        os.makedirs('./data')\n",
    "    \n",
    "    esc50_url = 'https://github.com/karoldvl/ESC-50/archive/master.zip'\n",
    "    wget.download(esc50_url, out='./data/')\n",
    "    print(\"\\n下载完成，开始解压...\")\n",
    "    \n",
    "    with zipfile.ZipFile('./data/ESC-50-master.zip', 'r') as zip_ref:\n",
    "        zip_ref.extractall('./data/')\n",
    "    # os.remove('./data/ESC-50-master.zip')\n",
    "    print(\"解压完成\")\n",
    "\n",
    "    # 转换音频到16kHz\n",
    "    base_dir = './data/ESC-50-master/'\n",
    "    if not os.path.exists('./data/ESC-50-master/audio_16k/'):\n",
    "        os.makedirs('./data/ESC-50-master/audio_16k/')\n",
    "    \n",
    "    print(\"开始转换音频采样率到16kHz...\")\n",
    "    audio_list = get_immediate_files('./data/ESC-50-master/audio')\n",
    "    for audio in audio_list:\n",
    "        input_path = os.path.join(base_dir, 'audio', audio)\n",
    "        output_path = os.path.join(base_dir, 'audio_16k', audio)\n",
    "        if resample_audio(input_path, output_path):\n",
    "            print(f'成功处理: {audio}')\n",
    "        else:\n",
    "            print(f'处理失败: {audio}')"
   ]
  },
  {
   "cell_type": "code",
   "execution_count": 4,
   "id": "50d72ed5-c189-48c0-9001-75892f319873",
   "metadata": {},
   "outputs": [
    {
     "name": "stdout",
     "output_type": "stream",
     "text": [
      "{'dog': '0', 'rooster': '1', 'pig': '2', 'cow': '3', 'frog': '4', 'cat': '5', 'hen': '6', 'insects': '7', 'sheep': '8', 'crow': '9', 'rain': '10', 'sea_waves': '11', 'crackling_fire': '12', 'crickets': '13', 'chirping_birds': '14', 'water_drops': '15', 'wind': '16', 'pouring_water': '17', 'toilet_flush': '18', 'thunderstorm': '19', 'crying_baby': '20', 'sneezing': '21', 'clapping': '22', 'breathing': '23', 'coughing': '24', 'footsteps': '25', 'laughing': '26', 'brushing_teeth': '27', 'snoring': '28', 'drinking_sipping': '29', 'door_wood_knock': '30', 'mouse_click': '31', 'keyboard_typing': '32', 'door_wood_creaks': '33', 'can_opening': '34', 'washing_machine': '35', 'vacuum_cleaner': '36', 'clock_alarm': '37', 'clock_tick': '38', 'glass_breaking': '39', 'helicopter': '40', 'chainsaw': '41', 'siren': '42', 'car_horn': '43', 'engine': '44', 'train': '45', 'church_bells': '46', 'airplane': '47', 'fireworks': '48', 'hand_saw': '49'}\n",
      "fold 1: 1600 training samples, 400 test samples\n",
      "fold 2: 1600 training samples, 400 test samples\n",
      "fold 3: 1600 training samples, 400 test samples\n",
      "fold 4: 1600 training samples, 400 test samples\n",
      "fold 5: 1600 training samples, 400 test samples\n"
     ]
    }
   ],
   "source": [
    "label_set = np.loadtxt('./data/esc_class_labels_indices.csv', delimiter=',', dtype='str')\n",
    "label_map = {}\n",
    "for i in range(1, len(label_set)):\n",
    "    label_map[eval(label_set[i][2])] = label_set[i][0]\n",
    "print(label_map)\n",
    "\n",
    "# fix bug: generate an empty directory to save json files\n",
    "if os.path.exists('./data/datafiles') == False:\n",
    "    os.mkdir('./data/datafiles')\n",
    "\n",
    "for fold in [1,2,3,4,5]:\n",
    "    base_path = \"./data/ESC-50-master/audio_16k/\"\n",
    "    meta = np.loadtxt('./data/ESC-50-master/meta/esc50.csv', delimiter=',', dtype='str', skiprows=1)\n",
    "    train_wav_list = []\n",
    "    eval_wav_list = []\n",
    "    for i in range(0, len(meta)):\n",
    "        cur_label = label_map[meta[i][3]]\n",
    "        cur_path = meta[i][0]\n",
    "        cur_fold = int(meta[i][1])\n",
    "        # /m/07rwj is just a dummy prefix\n",
    "        cur_dict = {\"wav\": base_path + cur_path, \"labels\": '/m/07rwj'+cur_label.zfill(2)}\n",
    "        if cur_fold == fold:\n",
    "            eval_wav_list.append(cur_dict)\n",
    "        else:\n",
    "            train_wav_list.append(cur_dict)\n",
    "\n",
    "    print('fold {:d}: {:d} training samples, {:d} test samples'.format(fold, len(train_wav_list), len(eval_wav_list)))\n",
    "\n",
    "    with open('./data/datafiles/esc_train_data_'+ str(fold) +'.json', 'w') as f:\n",
    "        json.dump({'data': train_wav_list}, f, indent=1)\n",
    "\n",
    "    with open('./data/datafiles/esc_eval_data_'+ str(fold) +'.json', 'w') as f:\n",
    "        json.dump({'data': eval_wav_list}, f, indent=1)\n"
   ]
  },
  {
   "cell_type": "code",
   "execution_count": 5,
   "id": "0e863dee-d420-4275-9a47-b4b1b1fd0c1b",
   "metadata": {},
   "outputs": [
    {
     "name": "stdout",
     "output_type": "stream",
     "text": [
      "Finished ESC-50 Preparation\n"
     ]
    }
   ],
   "source": [
    "print('Finished ESC-50 Preparation')"
   ]
  }
 ],
 "metadata": {
  "kernelspec": {
   "display_name": "MindSpore",
   "language": "python",
   "name": "mindspore"
  },
  "language_info": {
   "codemirror_mode": {
    "name": "ipython",
    "version": 3
   },
   "file_extension": ".py",
   "mimetype": "text/x-python",
   "name": "python",
   "nbconvert_exporter": "python",
   "pygments_lexer": "ipython3",
   "version": "3.9.18"
  }
 },
 "nbformat": 4,
 "nbformat_minor": 5
}
